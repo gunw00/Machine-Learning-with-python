{
 "cells": [
  {
   "cell_type": "markdown",
   "metadata": {},
   "source": [
    "4장에서 데이터의 속성을 나타내는 두 가지 특성에 관해 이야기했다. 정량적인 연속형 특성과 고정된 목록에서 값이 정해지는 범주형 특성이다. 많은 애플리케이션에서 사용하는 세 번째 유형의 데이터가 있는데, 바로 텍스트이다. 스팸 메일 분류를 예로 들면, 이메일의 내용에 이 분류 작업에 필요한 중요한 정보가 들어 있을 것이다. 또는 이민 정책에 관한 정치인의 의견을 분석해야 할 때 각자의 언행이나 트윗이 중요한 정보를 제공한다. 고객 서비스에서는 메시지가 불만사항인지 문의사항인지를 구분해야 할 때가 많다. 메시지의 제목이나 내용으로 고객의 의도를 자동으로 파악해서 적절한 부서로 전달하거나, 완전히 자동으로 응답할 수도 있다. \n",
    "\n",
    "텍스트 데이터는 주로 글자가 연결된 문자열로 표현된다. 텍스트 데이터의 길이는 서로 같은 경우가 거의 없다. 이런 특성은 이제까지 본 수치형 특성과 매우 다르므로 머신러닝 알고리즘을 적용하기 전에 전처리를 해야 한다."
   ]
  },
  {
   "cell_type": "markdown",
   "metadata": {},
   "source": [
    "# 7.1 문자열 데이터 타입\n",
    "\n",
    "텍스트 데이터를 처리하는 과정으로 들어가기 전에, 자주 나타나는 몇 가지 텍스트 데이터에 대해 이야기해보자. 텍스트는 보통 데이터셋에서 문자열일 뿐이지만, 모든 문자열 특성을 텍스트로 다뤄야 하는 것은 아니다. 4장에서 본 것처럼 문자열 특성은 범주형 변수로 표현할 수도 있다. 문자열 특성을 어떻게 다뤄야 할지 알려면 데이터를 직접 보는 수 밖에 없다.\n",
    "\n",
    "우리가 만날 수 있는 문자열 데이터는 네 종류가 있다.\n",
    "\n",
    "1) 범주형 데이터\n",
    "\n",
    "2) 범주에 의미를 연결시킬 수 있는 임의의 문자열\n",
    "\n",
    "3) 구조화된 문자열 데이터\n",
    "\n",
    "4) 텍스트 데이터\n",
    "\n",
    "**범주형 데이터**는 고정된 목록으로 구성된다. 예를 들어 사람들에게 가장 좋아하는 색을 묻는 설문으로 데이터를 수집해보려고 한다. 드롭다운 메뉴에서 \"빨강\", \"녹색\", \"파랑\" 등 총 8개의 다른 색들 중 하나를 선택해야 한다. 이 경우 데이터셋에 8개의 값 중 하나가 들어가며 당연히 범주형 변수로 인코딩된다. 데이터를 이리저리 둘러보고 이런 경우에 해당하는지 조사해서(다른 문자열이 많다면 범주형 변수가 아니다), 만약 그렇다면 데이터셋에서 고유한 값을 찾아, 이 값들이 얼마나 자주 나타나는지 히스토그램을 그려볼 수 있다. 또, 각 값이 애플리케이션에서 생각하는 범주에 적절한지 확인한다. 만약 설문이 절반 정도 진행됐는데 누군가 \"검정\"을 \"검점\"으로 쓴 오타를 발견해서 설문을 수정했다면, 이 데이터셋에는 같은 의미를 나타내는 \"검정\"과 \"검점\"이 모두 들어 있으므로 두 값을 하나로 합쳐야 한다. \n",
    "\n",
    "사용자에게 좋아하는 색을 묻기 위해 드롭다운 메뉴 대신 텍스트 필드를 제공했다고 생각해보자. 대부분의 사람은 \"검정\"이나 \"파랑\"같은 색을 입력하지만, 어떤 사람은 철자를 틀리거나 \"회색\"이나 \"쥐색\"처럼 다르게 쓸 수 있다. 또는 더 확실하고 구체적으로 \"암청색\"처럼 쓸 수 있다. 매우 이상한 이름을 입력받을 수도 있다. xkcd 색깔 설문(http://blog.xkcd.com/2010/05/03/color-survey-results/)이 좋은 예이다. 사람들은 색에 자기만의 이름을 붙여서, \"벨로키랍토르 엉덩이\"나 \"치과 오렌지색. 내 입으로 떨어지는 의사의 비듬이 아직도 생각나\" 같은 이름을 만들기 때문에 색을 자동으로 매핑하기가 어렵거나 불가능하게 한다. 텍스트 필드로 받는 이런 응답은 문자열 데이터의 네 종류 중 두 번째인 **범주에 의미를 연결시킬 수 있는 임의의 문자열**에 해당한다. 이런 데이터를 범주형 변수로 인코딩하려면 가장 보편적인 값을 선택하든지, 애플리케이션에 맞게 이런 응답을 포용할 수 있는 범주를 정의하는 게 최선이다. 색의 경우라면 \"녹색과 빨강 줄무늬\"같은 응답은 \"여러 가지 색\"범주에 할당하거나, 다른 것으로 인코딩할 수 없는 값은 \"그 외\"라고 하면 된다. 이런 전처리는 수작업을 많이 해야 하고 자동화하기 어렵다. 데이터 수집 관련 일을 하고 있다면, 범주형 변수로 받을 수 있는 것은 직접 입력받지 말라고 권한다.\n",
    "\n",
    "미리 정의된 범주에 속하지 않지만 직접 입력한 값들이 주소나 장소, 사람 이름, 날짜, 전화번호, 식별번호처럼 일정한 **구조**를 가지기도 한다. 이런 종류의 문자열은 분석하기 매우 어렵고, 처리 방법이 문맥이나 분야에 따라 매우 다르다. 이런 경우에 대한 체계적인 처리 방식은 이 책의 범위를 넘는 내용이다.\n",
    "\n",
    "문자열 데이터의 마지막 종류는 자유로운 형태의 절과 문장으로 구성된 **텍스트 데이터**이다. 트윗, 채팅, 호텔 리뷰 등이 여기에 속한다. 이런 데이터는 대부분 단어로 구성된 문장에 정보를 담고 있다. 문제를 간단하게 만들기 위해 여기서는 모든 문서가 영어로 쓰였다고 가정하겠다. 텍스트 분석에서는 데이터셋을 말뭉치(corpus)라 하고, 하나의 텍스트를 의미하는 각 데이터 포인트를 문서라 한다. 이런 용어는 텍스트 데이터를 주로 다루는 정보 검색과 자연어 처리 공동체에서 유래했다."
   ]
  },
  {
   "cell_type": "markdown",
   "metadata": {},
   "source": [
    "# 7.2 예제 애플리케이션: 영화 리뷰 감성 분석\n",
    "\n",
    "이번 장의 예제를 위해 스탠퍼드 대학교 연구원인 앤드루 마스가 IMDb(Internet Movie Database) 웹사이트에서 수집한 영화 리뷰 데이터셋을 사용하겠다. 이 데이터셋은 리뷰 텍스트와 '양성' 혹은 '음성'을 나타내는 레이블을 포함하고 있다. IMDb 웹사이트에는 1에서 10까지 점수가 있다. 이 데이터셋은 7점 이상은 '양성', 4점 이하는 '음성'인 이진 분류 데이터셋으로 구분되어 있다(중간은 포함하고 있지 않다)."
   ]
  },
  {
   "cell_type": "code",
   "execution_count": 1,
   "metadata": {},
   "outputs": [
    {
     "name": "stdout",
     "output_type": "stream",
     "text": [
      "text_train의 타입: <class 'list'>\n",
      "text_traindml 길이: 25000\n",
      "text_train[6]:\n",
      " b\"This movie has a special way of telling the story, at first i found it rather odd as it jumped through time and I had no idea whats happening.<br /><br />Anyway the story line was although simple, but still very real and touching. You met someone the first time, you fell in love completely, but broke up at last and promoted a deadly agony. Who hasn't go through this? but we will never forget this kind of pain in our life. <br /><br />I would say i am rather touched as two actor has shown great performance in showing the love between the characters. I just wish that the story could be a happy ending.\"\n"
     ]
    }
   ],
   "source": [
    "from sklearn.datasets import load_files\n",
    "\n",
    "reviews_train = load_files(\"aclImdb_v1/aclImdb/train/\")\n",
    "# 텍스트와 레이블을 포함하고 있는 Bunch 오브젝트를 반환한다.\n",
    "text_train, y_train = reviews_train.data, reviews_train.target\n",
    "print(\"text_train의 타입:\", type(text_train))\n",
    "print(\"text_traindml 길이:\", len(text_train))\n",
    "print(\"text_train[6]:\\n\", text_train[6])"
   ]
  },
  {
   "cell_type": "markdown",
   "metadata": {},
   "source": [
    "text_train 리스트의 길이는 25,000이고 각 항목은 리뷰 한 개에 대한 문자열이다. 앞에서 인덱스가 6인 리뷰를 출력했다. 이 리뷰는 HTML 줄바꿈 태그를 포함하고 있다. 이 글자가 머신러닝 모델에 큰 영향을 미칠 것 같진 않지만, 계속하기 전에 태그를 삭제해서 데이터를 정리하는 것이 나쁘지 않다."
   ]
  },
  {
   "cell_type": "code",
   "execution_count": 2,
   "metadata": {},
   "outputs": [],
   "source": [
    "text_train = [doc.replace(b\"<br />\",b\" \") for doc in text_train]"
   ]
  },
  {
   "cell_type": "markdown",
   "metadata": {},
   "source": [
    "이 데이터셋은 양성 클래스와 음성 클래스를 같은 비율로 수집했기 때문에 양성과 음성 레이블의 수가 같다."
   ]
  },
  {
   "cell_type": "code",
   "execution_count": 3,
   "metadata": {},
   "outputs": [
    {
     "name": "stdout",
     "output_type": "stream",
     "text": [
      "클래스별 샘플 수 (훈련 데이터): [12500 12500]\n"
     ]
    }
   ],
   "source": [
    "import numpy as np\n",
    "\n",
    "print(\"클래스별 샘플 수 (훈련 데이터):\", np.bincount(y_train))"
   ]
  },
  {
   "cell_type": "markdown",
   "metadata": {},
   "source": [
    "같은 방식으로 테스트 데이터셋을 읽어 들인다."
   ]
  },
  {
   "cell_type": "code",
   "execution_count": 4,
   "metadata": {},
   "outputs": [
    {
     "name": "stdout",
     "output_type": "stream",
     "text": [
      "테스트 데이터의 문서 수: 25000\n",
      "클래스별 샘플 수 (테스트 데이터): [12500 12500]\n"
     ]
    }
   ],
   "source": [
    "reviews_test = load_files(\"aclImdb_v1/aclImdb/test/\")\n",
    "text_test, y_test = reviews_test.data, reviews_test.target\n",
    "print(\"테스트 데이터의 문서 수:\", len(text_test))\n",
    "print(\"클래스별 샘플 수 (테스트 데이터):\", np.bincount(y_test))\n",
    "text_test = [doc.replace(b\"<br />\",b\" \") for doc in text_test]"
   ]
  },
  {
   "cell_type": "markdown",
   "metadata": {},
   "source": [
    "우리가 풀려는 문제는 다음과 같다. 리뷰가 하나 주어졌을 때, 이 리뷰의 텍스트 내용을 보고 '양성'인지 '음성'인지 구분하는 것이다. 이는 전형적인 이진 분류 문제이다. 그러나 텍스트 데이터는 머신러닝 모델이 다룰 수 있는 형태가 아니다. 그래서 텍스트의 문자열 표현을 머신러닝 알고리즘에 적용할 수 있도록 수치 표현으로 바꿔야 한다."
   ]
  },
  {
   "cell_type": "markdown",
   "metadata": {},
   "source": [
    "# 7.3 텍스트 데이터를 BOW로 표현하기\n",
    "\n",
    "머신러닝에서 텍스트를 표현하는 방법 중 BOW(bag of words)는 가장 간단하지만 효과적이면서 널리 쓰이는 방법이다. 이 방법을 쓰면 장, 문단, 문장, 서식 같은 입력 텍스트의 구조 대부분을 잃고, 각 단어가 이 말뭉치에 있는 텍스트에 얼마나 많이 나타나는지만 헤아린다. 구조와 상관없이 단어의 출현 횟수만 세기 때문에 텍스트를 담는 '가방'으로 생각할 수 있다.\n",
    "\n",
    "전체 말뭉치에 대해 BOW 표현을 계산하려면 다음 세 단계를 거친다.\n",
    "\n",
    "1) **토큰화**(tokenization). 각 문서를 문서에 포함된 단어(토큰)로 나눈다. 예를 들어 공백이나 구두점 등을 기준으로 분리한다.\n",
    "\n",
    "2) **어휘 사전 구축**. 모든 문서에 나타난 모든 단어의 어휘를 모으고 번호를 매긴다(알파벳 순서).\n",
    "\n",
    "3) **인코딩**. 어휘 사전의 단어가 문서마다 몇 번이나 나타나는지를 헤아린다.\n",
    "\n",
    "그럼 이제 scikit-learn으로 BOW 표현을 어떻게 만드는지 알아보자."
   ]
  },
  {
   "cell_type": "markdown",
   "metadata": {},
   "source": [
    "## 7.3.1 샘플 데이터에 BOW 적용하기\n",
    "\n",
    "BOW 표현은 CountVectorizer에 변환기 인터페이스로 구현되어 있다. 두 샘플만 포함한 간단한 데이터셋에 적용해 어떻게 작동하는지 보자."
   ]
  },
  {
   "cell_type": "code",
   "execution_count": 5,
   "metadata": {},
   "outputs": [],
   "source": [
    "bards_words = [\"The fool doth think he is wise\",\n",
    "              \"but the wise man knows himself to be a fool\"]"
   ]
  },
  {
   "cell_type": "markdown",
   "metadata": {},
   "source": [
    "다음과 같이 CountVectorizer를 임포트하고 객체를 만들어 샘플 데이터에 fit 메서드를 적용한다."
   ]
  },
  {
   "cell_type": "code",
   "execution_count": 6,
   "metadata": {},
   "outputs": [
    {
     "data": {
      "text/plain": [
       "CountVectorizer(analyzer='word', binary=False, decode_error='strict',\n",
       "                dtype=<class 'numpy.int64'>, encoding='utf-8', input='content',\n",
       "                lowercase=True, max_df=1.0, max_features=None, min_df=1,\n",
       "                ngram_range=(1, 1), preprocessor=None, stop_words=None,\n",
       "                strip_accents=None, token_pattern='(?u)\\\\b\\\\w\\\\w+\\\\b',\n",
       "                tokenizer=None, vocabulary=None)"
      ]
     },
     "execution_count": 6,
     "metadata": {},
     "output_type": "execute_result"
    }
   ],
   "source": [
    "from sklearn.feature_extraction.text import CountVectorizer\n",
    "vect = CountVectorizer()\n",
    "vect.fit(bards_words)"
   ]
  },
  {
   "cell_type": "markdown",
   "metadata": {},
   "source": [
    "CountVectorizer의 fit 메서드는 훈련 데이터를 토큰으로 나누고 어휘 사전을 구축하여 vocabulary_ 속성에 저장한다."
   ]
  },
  {
   "cell_type": "code",
   "execution_count": 7,
   "metadata": {},
   "outputs": [
    {
     "name": "stdout",
     "output_type": "stream",
     "text": [
      "어휘 사전의 크기: 13\n",
      "어휘 사전의 내용:\n",
      " {'the': 9, 'fool': 3, 'doth': 2, 'think': 10, 'he': 4, 'is': 6, 'wise': 12, 'but': 1, 'man': 8, 'knows': 7, 'himself': 5, 'to': 11, 'be': 0}\n"
     ]
    }
   ],
   "source": [
    "print(\"어휘 사전의 크기:\", len(vect.vocabulary_))\n",
    "print(\"어휘 사전의 내용:\\n\", vect.vocabulary_)"
   ]
  },
  {
   "cell_type": "markdown",
   "metadata": {},
   "source": [
    "이 어휘 사전은 \"be\"에서 \"wise\"까지 13개의 단어로 구성되어 있다. \n",
    "\n",
    "훈련 데이터에 대해 BOW 표현을 만들려면 transform 메서드를 호출한다."
   ]
  },
  {
   "cell_type": "code",
   "execution_count": 8,
   "metadata": {},
   "outputs": [
    {
     "name": "stdout",
     "output_type": "stream",
     "text": [
      "BOW: <2x13 sparse matrix of type '<class 'numpy.int64'>'\n",
      "\twith 16 stored elements in Compressed Sparse Row format>\n"
     ]
    }
   ],
   "source": [
    "bag_of_words = vect.transform(bards_words)\n",
    "print(\"BOW:\", repr(bag_of_words))"
   ]
  },
  {
   "cell_type": "markdown",
   "metadata": {},
   "source": [
    "BOW 표현은 0이 아닌 값만 저장하는 Scipy 희소 행렬로 저장되어 있다. "
   ]
  },
  {
   "cell_type": "code",
   "execution_count": 9,
   "metadata": {},
   "outputs": [
    {
     "name": "stdout",
     "output_type": "stream",
     "text": [
      "BOW의 밀집 표현:\n",
      " [[0 0 1 1 1 0 1 0 0 1 1 0 1]\n",
      " [1 1 0 1 0 1 0 1 1 1 0 1 1]]\n"
     ]
    }
   ],
   "source": [
    "print(\"BOW의 밀집 표현:\\n\", bag_of_words.toarray())"
   ]
  },
  {
   "cell_type": "markdown",
   "metadata": {},
   "source": [
    "## 7.3.2 영화 리뷰에 대한 BOW\n",
    "\n",
    "지금까지 BOW 처리 과정을 자세히 짚어봤다. 이제 영화 리뷰에 대한 감성 분석을 적용해보자. 앞에서 IMDb 리뷰의 훈련 데이터와 테스트 데이터를 읽어서 작업할 문자열 리스트로 바꿨다."
   ]
  },
  {
   "cell_type": "code",
   "execution_count": 10,
   "metadata": {},
   "outputs": [
    {
     "name": "stdout",
     "output_type": "stream",
     "text": [
      "X_train:\n",
      " <25000x74849 sparse matrix of type '<class 'numpy.int64'>'\n",
      "\twith 3431196 stored elements in Compressed Sparse Row format>\n"
     ]
    }
   ],
   "source": [
    "vect = CountVectorizer().fit(text_train)\n",
    "X_train = vect.transform(text_train)\n",
    "print(\"X_train:\\n\", repr(X_train))"
   ]
  },
  {
   "cell_type": "markdown",
   "metadata": {},
   "source": [
    "훈련 데이터의 BOW 표현인 X_train의 크기는 25,000 x 74,849로, 이 어휘 사전은 단어를 74,849개 담고 있다. 이 데이터는 SciPy 희소 행렬로 저장되어 있다. 어휘 사전을 조금 더 자세히 살펴보자. CountVectorizer 객체의 get_feature_name 메서드는 각 특성에 해당하는 단어를 리스트로 반환한다."
   ]
  },
  {
   "cell_type": "code",
   "execution_count": 11,
   "metadata": {},
   "outputs": [
    {
     "name": "stdout",
     "output_type": "stream",
     "text": [
      "특성 개수: 74849\n",
      "처음 20개 특성:\n",
      " ['00', '000', '0000000000001', '00001', '00015', '000s', '001', '003830', '006', '007', '0079', '0080', '0083', '0093638', '00am', '00pm', '00s', '01', '01pm', '02']\n",
      "20010dptj 20030까지 특성:\n",
      " ['dratted', 'draub', 'draught', 'draughts', 'draughtswoman', 'draw', 'drawback', 'drawbacks', 'drawer', 'drawers', 'drawing', 'drawings', 'drawl', 'drawled', 'drawling', 'drawn', 'draws', 'draza', 'dre', 'drea']\n",
      "매 2000번째 특성:\n",
      " ['00', 'aesir', 'aquarian', 'barking', 'blustering', 'bête', 'chicanery', 'condensing', 'cunning', 'detox', 'draper', 'enshrined', 'favorit', 'freezer', 'goldman', 'hasan', 'huitieme', 'intelligible', 'kantrowitz', 'lawful', 'maars', 'megalunged', 'mostey', 'norrland', 'padilla', 'pincher', 'promisingly', 'receptionist', 'rivals', 'schnaas', 'shunning', 'sparse', 'subset', 'temptations', 'treatises', 'unproven', 'walkman', 'xylophonist']\n"
     ]
    }
   ],
   "source": [
    "feature_names = vect.get_feature_names()\n",
    "print(\"특성 개수:\", len(feature_names))\n",
    "print(\"처음 20개 특성:\\n\", feature_names[:20])\n",
    "print(\"20010dptj 20030까지 특성:\\n\", feature_names[20010:20030])\n",
    "print(\"매 2000번째 특성:\\n\", feature_names[::2000])"
   ]
  },
  {
   "cell_type": "markdown",
   "metadata": {},
   "source": [
    "조금 놀랍게도 앞의 결과를 보면 어휘 사전의 처음 20개 중 15개의 항목이 숫자이다. 이 숫자들은 모두 리뷰 어딘가에 나타났기 때문에 단어로 추출되었다. 영화 리뷰라는 걸 고려하면 제임스 본드 역할을 의미할 것 같은 \"007\"을 제외하고는 이런 숫자들 대부분은 그 자체로 의미가 있지 않다. 의미 없는 단어 중에서 의미 있는 것을 선별해내는 일은 쉽지 않다. 어휘 사전을 더 들여다보면 \"dra\"로 시작하는 영어 단어의 목록을 볼 수 있다. \"draught\", \"drawback\", \"drawer\" 모두 단수와 복수형이 서로 다른 단어로 어휘 사전에 포함되어 있다. 이런 단어들은 의미가 매우 비슷하므로 다른 특성으로 간주하여 개별적으로 기록하는 것이 바람직하지 않다. \n",
    "\n",
    "특성 추출 방법을 개선하기 전에, 분류기를 만들어 성능 수치를 확인해보자. y_train에 있는 훈련 레이블과 X_train에 있는 훈련 데이터의 BOW 표현으로 분류기를 학습해보자. 이런 희소 행렬의 고차원 데이터셋에서는 LogisticRegression 같은 선형 모델의 성능이 가장 뛰어나다.\n",
    "\n",
    "교차 검증을 사용해 LogisticRegression 모델의 성능을 평가한다."
   ]
  },
  {
   "cell_type": "code",
   "execution_count": 12,
   "metadata": {},
   "outputs": [
    {
     "name": "stderr",
     "output_type": "stream",
     "text": [
      "C:\\Users\\NT500R\\Anaconda3\\lib\\site-packages\\sklearn\\linear_model\\logistic.py:432: FutureWarning: Default solver will be changed to 'lbfgs' in 0.22. Specify a solver to silence this warning.\n",
      "  FutureWarning)\n"
     ]
    }
   ],
   "source": [
    "from sklearn.model_selection import cross_val_score\n",
    "from sklearn.linear_model import LogisticRegression\n",
    "\n",
    "scores = cross_val_score(LogisticRegression(), X_train, y_train, cv=5)"
   ]
  },
  {
   "cell_type": "code",
   "execution_count": 13,
   "metadata": {},
   "outputs": [
    {
     "name": "stdout",
     "output_type": "stream",
     "text": [
      "교차 검증 평균 점수: 0.88\n"
     ]
    }
   ],
   "source": [
    "print(\"교차 검증 평균 점수: {:.2f}\".format(np.mean(scores)))"
   ]
  },
  {
   "cell_type": "markdown",
   "metadata": {},
   "source": [
    "교차 검증 평균 점수로 88%를 얻어쓴데, 균형 잡힌 데이터셋에서 꽤 괜찮은 이진 분류 성능이다. LogisticRegression에는 규제 매개변수 C가 있으므로 그리드 서치를 사용해 조정해보자."
   ]
  },
  {
   "cell_type": "code",
   "execution_count": 15,
   "metadata": {},
   "outputs": [
    {
     "name": "stderr",
     "output_type": "stream",
     "text": [
      "C:\\Users\\NT500R\\Anaconda3\\lib\\site-packages\\sklearn\\linear_model\\logistic.py:432: FutureWarning: Default solver will be changed to 'lbfgs' in 0.22. Specify a solver to silence this warning.\n",
      "  FutureWarning)\n"
     ]
    },
    {
     "name": "stdout",
     "output_type": "stream",
     "text": [
      "최상의 교차 검증 점수: 0.89\n",
      "최적의 매개변수: {'C': 0.1}\n"
     ]
    }
   ],
   "source": [
    "from sklearn.model_selection import GridSearchCV\n",
    "param_grid = {'C':[0.001,0.01,0.1,1,10]}\n",
    "grid = GridSearchCV(LogisticRegression(), param_grid, cv=5)\n",
    "grid.fit(X_train, y_train)\n",
    "print(\"최상의 교차 검증 점수: {:.2f}\".format(grid.best_score_))\n",
    "print(\"최적의 매개변수:\", grid.best_params_)"
   ]
  },
  {
   "cell_type": "markdown",
   "metadata": {},
   "source": [
    "C=0.1에서 교차 검증 점수 89%를 얻었다. 이 매개변수를 사용해서 테스트 세트의 일반화 성능을 재보자."
   ]
  },
  {
   "cell_type": "code",
   "execution_count": 16,
   "metadata": {},
   "outputs": [
    {
     "name": "stdout",
     "output_type": "stream",
     "text": [
      "테스트 점수: 0.88\n"
     ]
    }
   ],
   "source": [
    "X_test = vect.transform(text_test)\n",
    "print(\"테스트 점수: {:.2f}\".format(grid.score(X_test, y_test)))"
   ]
  },
  {
   "cell_type": "markdown",
   "metadata": {},
   "source": [
    "이제 단어 추출 방법을 개선할 차례이다. COuntVectorizer는 정규표현식을 사용해 토큰을 추출한다. 기본적으로 사용하는 정규표현식은 \"\\b\\w\\w+\\b\"이다. 정규표현식에 대해 잘 모른다면, 이 식으로 경계(\\b)가 구분되고 적어도 둘 이상의 문자나 숫자(\\w)가 연속된 단어를 찾는다고 이해하면 된다. 한 글자로 된 단어는 찾지 않으며, \"doesn't\" 같은 축약형이나 \"bit.ly\" 같은 단어는 분리되고, \"h8ter\"는 한 단어로 매칭된다. CountVectorizer는 모든 단어를 소문자로 바꾸므로 \"soon\", \"Soon\", \"sOon\"이 모두 같은 토큰이 된다. 이런 간단한 메커니즘은 실제로 잘 작동하지만, 앞에서 보았듯이 의미 없는 특성을 많이 생성한다. 이를 줄이는 방법은 적어도 두 개의 문저에 나타난 토큰만을 사용하는 것이다. 하나의 문서에서만 나타난 토큰은 테스트세트에 나타날 가능성이 적으므로 그리 큰 도움이 되지 않는다. min_df 매개변수로 토큰이 나타날 최소 문서 개수를 지정할 수 있다."
   ]
  },
  {
   "cell_type": "code",
   "execution_count": 17,
   "metadata": {},
   "outputs": [
    {
     "name": "stdout",
     "output_type": "stream",
     "text": [
      "min_df로 제한한 X_train: <25000x27271 sparse matrix of type '<class 'numpy.int64'>'\n",
      "\twith 3354014 stored elements in Compressed Sparse Row format>\n"
     ]
    }
   ],
   "source": [
    "vect = CountVectorizer(min_df=5).fit(text_train)\n",
    "X_train = vect.transform(text_train)\n",
    "print(\"min_df로 제한한 X_train:\", repr(X_train))"
   ]
  },
  {
   "cell_type": "markdown",
   "metadata": {},
   "source": [
    "토큰이 적어도 다섯 번 이상 나타나야 하므로, 결과에서 볼 수 있듯이 특성의 수가 원래 개수의 1/3 정도인 27,271개로 줄었다. 토큰 내용을 다시 살펴보자."
   ]
  },
  {
   "cell_type": "code",
   "execution_count": 18,
   "metadata": {},
   "outputs": [
    {
     "name": "stdout",
     "output_type": "stream",
     "text": [
      "처음 50개 특성:\n",
      " ['00', '000', '007', '00s', '01', '02', '03', '04', '05', '06', '07', '08', '09', '10', '100', '1000', '100th', '101', '102', '103', '104', '105', '107', '108', '10s', '10th', '11', '110', '112', '116', '117', '11th', '12', '120', '12th', '13', '135', '13th', '14', '140', '14th', '15', '150', '15th', '16', '160', '1600', '16mm', '16s', '16th']\n",
      "20,010부터 20,030까지 특성:\n",
      " ['repentance', 'repercussions', 'repertoire', 'repetition', 'repetitions', 'repetitious', 'repetitive', 'rephrase', 'replace', 'replaced', 'replacement', 'replaces', 'replacing', 'replay', 'replayable', 'replayed', 'replaying', 'replays', 'replete', 'replica']\n",
      "매 700번쨰 특성:\n",
      " ['00', 'affections', 'appropriately', 'barbra', 'blurbs', 'butchered', 'cheese', 'commitment', 'courts', 'deconstructed', 'disgraceful', 'dvds', 'eschews', 'fell', 'freezer', 'goriest', 'hauser', 'hungary', 'insinuate', 'juggle', 'leering', 'maelstrom', 'messiah', 'music', 'occasional', 'parking', 'pleasantville', 'pronunciation', 'recipient', 'reviews', 'sas', 'shea', 'sneers', 'steiger', 'swastika', 'thrusting', 'tvs', 'vampyre', 'westerns']\n"
     ]
    }
   ],
   "source": [
    "feature_names = vect.get_feature_names()\n",
    "\n",
    "print(\"처음 50개 특성:\\n\", feature_names[:50])\n",
    "print(\"20,010부터 20,030까지 특성:\\n\", feature_names[20010:20030])\n",
    "print(\"매 700번쨰 특성:\\n\", feature_names[::700])"
   ]
  },
  {
   "cell_type": "markdown",
   "metadata": {},
   "source": [
    "확실히 숫자 길이가 줄었고 희귀한 단어와 철자가 틀린 단어들이 사라졌다. 그리드 서치를 사용해 모델의 성능을 확인해보자."
   ]
  },
  {
   "cell_type": "code",
   "execution_count": 19,
   "metadata": {},
   "outputs": [
    {
     "name": "stderr",
     "output_type": "stream",
     "text": [
      "C:\\Users\\NT500R\\Anaconda3\\lib\\site-packages\\sklearn\\linear_model\\logistic.py:432: FutureWarning: Default solver will be changed to 'lbfgs' in 0.22. Specify a solver to silence this warning.\n",
      "  FutureWarning)\n"
     ]
    },
    {
     "name": "stdout",
     "output_type": "stream",
     "text": [
      "최적의 교차 검증 점수: 0.89\n"
     ]
    }
   ],
   "source": [
    "grid = GridSearchCV(LogisticRegression(), param_grid, cv=5)\n",
    "grid.fit(X_train, y_train)\n",
    "print(\"최적의 교차 검증 점수: {:.2f}\".format(grid.best_score_))"
   ]
  },
  {
   "cell_type": "markdown",
   "metadata": {},
   "source": [
    "그리드 서치의 교차 검증 점수는 여전히 89%로, 이전과 달라지지 않았다. 모델 성능은 높아지지 않았지만 특성의 개수가 줄어서 처리 속도가 빨라지고, 불필요한 특성이 없어져 모델을 이해하기가 쉬워졌다."
   ]
  },
  {
   "cell_type": "markdown",
   "metadata": {},
   "source": [
    "**NOTE_** CountVectorizer의 transform 메서드를 훈련 데이터에 없던 단어가 포함된 문서에 적용하면, 어휘 사전에 없기 때문에 그 단어를 무시한다. 훈련 데이터에 없는 단어에 대해서 무언가 학습한다는 것이 불가능하므로, 분류 작업에서 보통은 문제가 되진 않는다. 스팸 감지 같은 애플리케이션에서는 어휘 사전에 없는 단어가 문서에 얼마나 많이 나타나는지를 기록한 특성이 유용할 수 있다. 적절한 방식을 사용하여 어휘를 제한하지 않으면 훈련하는 동안 어휘 사전에 없는 단어가 생기지 않는다."
   ]
  },
  {
   "cell_type": "markdown",
   "metadata": {},
   "source": [
    "# 7.4 불용어\n",
    "\n",
    "의미 없는 단어를 제거하는 또 다른 방법은 너무 빈번하여 유용하지 않은 단어를 제외하는 것이다. 두 가지 방식이 있는데 언어별 불용어(stopword) 목록을 사용하는 것과 너무 자주 나타나는 단어를 제외하는 것이다. scikit-learn은 feature_extraction.text 모듈에 영어의 불용어를 가지고 있다."
   ]
  },
  {
   "cell_type": "code",
   "execution_count": 20,
   "metadata": {},
   "outputs": [
    {
     "name": "stdout",
     "output_type": "stream",
     "text": [
      "불용어 개수: 318\n",
      "매 10번째 불용어:\n",
      " ['down', 'toward', 'one', 'thin', 'once', 'those', 'my', 'for', 'cant', 'it', 'hereupon', 'three', 'get', 'again', 'and', 'am', 'both', 'been', 'him', 'yours', 'about', 'someone', 'whence', 'are', 'will', 'four', 'move', 'was', 'wherein', 'per', 'anyone', 'thereupon']\n"
     ]
    }
   ],
   "source": [
    "from sklearn.feature_extraction.text import ENGLISH_STOP_WORDS\n",
    "print(\"불용어 개수:\", len(ENGLISH_STOP_WORDS))\n",
    "print(\"매 10번째 불용어:\\n\", list(ENGLISH_STOP_WORDS)[::10])"
   ]
  },
  {
   "cell_type": "markdown",
   "metadata": {},
   "source": [
    "불용어를 제외하면 특성의 개수가 이 목록의 길이(318개) 만큼만 줄어들겠지만, 성능이 향상될 수도 있다."
   ]
  },
  {
   "cell_type": "code",
   "execution_count": 21,
   "metadata": {},
   "outputs": [
    {
     "name": "stdout",
     "output_type": "stream",
     "text": [
      "불용어가 제거된 X_train:\n",
      " <25000x26966 sparse matrix of type '<class 'numpy.int64'>'\n",
      "\twith 2149958 stored elements in Compressed Sparse Row format>\n"
     ]
    }
   ],
   "source": [
    "# stop_words='english'라고 지정하면 내장된 불용어를 사용한다.\n",
    "# 내장된 불용어에 추가할 수도 있고 자신만의 목록을 사용할 수도 있다.\n",
    "vect = CountVectorizer(min_df=5, stop_words='english').fit(text_train)\n",
    "X_train = vect.transform(text_train)\n",
    "print(\"불용어가 제거된 X_train:\\n\", repr(X_train))"
   ]
  },
  {
   "cell_type": "markdown",
   "metadata": {},
   "source": [
    "데이터셋에서 특성이 27,271 - 26,966개, 즉 305개가 줄었다. 전부는 아니지만 대부분의 불용어가 포함되어 있었다. 그리드 서치를 다시 적용해보자."
   ]
  },
  {
   "cell_type": "code",
   "execution_count": 22,
   "metadata": {
    "scrolled": true
   },
   "outputs": [
    {
     "name": "stderr",
     "output_type": "stream",
     "text": [
      "C:\\Users\\NT500R\\Anaconda3\\lib\\site-packages\\sklearn\\linear_model\\logistic.py:432: FutureWarning: Default solver will be changed to 'lbfgs' in 0.22. Specify a solver to silence this warning.\n",
      "  FutureWarning)\n"
     ]
    },
    {
     "name": "stdout",
     "output_type": "stream",
     "text": [
      "최상의 교차 검증 점수: 0.88\n"
     ]
    }
   ],
   "source": [
    "grid = GridSearchCV(LogisticRegression(), param_grid, cv=5)\n",
    "grid.fit(X_train, y_train)\n",
    "print(\"최상의 교차 검증 점수: {:.2f}\".format(grid.best_score_))"
   ]
  },
  {
   "cell_type": "markdown",
   "metadata": {},
   "source": [
    "불용어를 사용한 그리드 서치의 성능은 신경 쓸 정도는 아니지만 조금 감소했다. 하지만 27,000개가 넘는 특성에서 305개를 제외했다고 성능이나 모델 해석이 나아진 것 같지는 않으므로, 이 목록을 사용하는 게 도움이 안 된다. 고정된 불용어 목록은 모델이 데이터셋만 보고 불용어를 골라내기 어려운 작은 데이터셋에서나 도움이 된다. 다른 방식으로 CountVectorizer의 max_df 옵션을 지정하여 자주 나타나는 단어를 제거하고, 특성의 개수와 성능에 어떻게 영향을 주는지 연습해야한다."
   ]
  },
  {
   "cell_type": "markdown",
   "metadata": {},
   "source": [
    "# 7.5 tf-idf로 데이터 스케일 변경하기\n",
    "\n",
    "중요하지 않아 보이는 특성을 제외하는 대신, 얼마나 의미 있는 특성인지를 계산해서 스케일을 조정하는 방식이 있다. 가장 널리 알려진 방식은 **tf-idf**(term frequency-inverse document frequency, 단어빈도-역문서빈도)이다. tf-idf는 말뭉치의 다른 문서보다 특정 문서에 자주 나타나는 단어에 높은 가중치를 주는 방법이다. 한 단어가 특정 문서에 자주 나타나고 다른 여러 문서에서는 그렇지 않다면, 그 문서의 내용을 아주 잘 설명하는 단어라고 볼 수 있다. scikit-learn은 두 개의 파이썬 클래스에 tf-idf를 구현했다. TfidfTransformer는 CountVectorizer가 만든 희소 행렬을 입력받아 변환한다. TfidfVectorizer는 텍스트 데이터를 입력받아 BOW 특성 추출과 tf-idf 변환을 수행한다. tf-idf 스케일 변환 방식은 여러 변종이 있으니 위키백과를 참고하자(http://en/wikipedia.org/wiki/Tf-idf). 문서 d에 있는 단어 w에 대한 tf-idf 점수는 TfidfTransformer와 TfidfVectorizer에 다음과 같이 정의되어 있다.\n",
    "\n",
    "***tfidf(w,d) = tf(log((N+1)/(N_w+1))+1)***\n",
    "\n",
    "N은 훈련 세트에 있는 문서의 개수고, N_w는 단어 w가 나타난 훈련 세트 문서의 개수이며, tf(단어 빈도수)는 단어 w가 대상 문서 d(변환 또는 인코딩하려는 문서)에 나타난 횟수이다. 두 파이썬 클래스 모두 tf-idf 계산을 한 후에 L2 정규화(L2 normalization)를 적용한다. 다시 말해 유클리디안 노름(euclidean norm)이 1이 되도록 각 문서 벡터의 스케일을 바꾼다. 이렇게 스케일이 바뀐 벡터는 문서의 길이(단어의 수)에 영향을 받지 않는다.\n",
    "\n",
    "tf-idf는 실제로 훈련 데이터의 통계적 속성을 사용하기 때문에. 6장에서처럼 파이프라인을 사용해 그리드 서치를 제대로 적용해보자."
   ]
  },
  {
   "cell_type": "code",
   "execution_count": 24,
   "metadata": {
    "scrolled": false
   },
   "outputs": [
    {
     "name": "stderr",
     "output_type": "stream",
     "text": [
      "C:\\Users\\NT500R\\Anaconda3\\lib\\site-packages\\sklearn\\linear_model\\logistic.py:947: ConvergenceWarning: lbfgs failed to converge. Increase the number of iterations.\n",
      "  \"of iterations.\", ConvergenceWarning)\n",
      "C:\\Users\\NT500R\\Anaconda3\\lib\\site-packages\\sklearn\\linear_model\\logistic.py:947: ConvergenceWarning: lbfgs failed to converge. Increase the number of iterations.\n",
      "  \"of iterations.\", ConvergenceWarning)\n",
      "C:\\Users\\NT500R\\Anaconda3\\lib\\site-packages\\sklearn\\linear_model\\logistic.py:947: ConvergenceWarning: lbfgs failed to converge. Increase the number of iterations.\n",
      "  \"of iterations.\", ConvergenceWarning)\n",
      "C:\\Users\\NT500R\\Anaconda3\\lib\\site-packages\\sklearn\\linear_model\\logistic.py:947: ConvergenceWarning: lbfgs failed to converge. Increase the number of iterations.\n",
      "  \"of iterations.\", ConvergenceWarning)\n",
      "C:\\Users\\NT500R\\Anaconda3\\lib\\site-packages\\sklearn\\linear_model\\logistic.py:947: ConvergenceWarning: lbfgs failed to converge. Increase the number of iterations.\n",
      "  \"of iterations.\", ConvergenceWarning)\n"
     ]
    },
    {
     "name": "stdout",
     "output_type": "stream",
     "text": [
      "최상의 교차 검증 점수: 0.89\n"
     ]
    },
    {
     "name": "stderr",
     "output_type": "stream",
     "text": [
      "C:\\Users\\NT500R\\Anaconda3\\lib\\site-packages\\sklearn\\linear_model\\logistic.py:947: ConvergenceWarning: lbfgs failed to converge. Increase the number of iterations.\n",
      "  \"of iterations.\", ConvergenceWarning)\n"
     ]
    }
   ],
   "source": [
    "from sklearn.feature_extraction.text import TfidfVectorizer\n",
    "from sklearn.pipeline import make_pipeline\n",
    "pipe = make_pipeline(TfidfVectorizer(min_df=5), LogisticRegression(solver='lbfgs'))\n",
    "param_grid = {'logisticregression__C':[0.001,0.01,0.1,1,10]}\n",
    "\n",
    "grid = GridSearchCV(pipe, param_grid, cv=5)\n",
    "grid.fit(text_train, y_train)\n",
    "print(\"최상의 교차 검증 점수: {:.2f}\".format(grid.best_score_))"
   ]
  },
  {
   "cell_type": "markdown",
   "metadata": {},
   "source": [
    "여기서는 tf-idf가 성능에 큰 영향을 주지 못했다. tf-idf는 어떤 단어가 가장 중요한지도 알려준다. tf-idf 변환은 문서를 구별하는 단어를 찾는 방법이지만 완전히 비지도 학습이다. 그래서 우리의 관심사인 '긍정적인 리뷰'와 '부정적인 리뷰' 레이블과 꼭 관계있지 않다는 게 중요하다. 우선 파이프라인에서 TfidfVectorizer 단계를 선택한다."
   ]
  },
  {
   "cell_type": "code",
   "execution_count": 27,
   "metadata": {},
   "outputs": [],
   "source": [
    "vectorizer = grid.best_estimator_.named_steps['tfidfvectorizer']\n",
    "# 훈련 데이터셋을 변환\n",
    "X_train = vectorizer.transform(text_train)\n",
    "# 특성별로 가장 큰 값을 찾는다.\n",
    "max_value = X_train.max(axis=0).toarray().ravel()\n",
    "sorted_by_tfidf = max_value.argsort()\n",
    "# 특성 이름을 구한다.\n",
    "feature_names = np.array(vectorizer.get_feature_names())"
   ]
  },
  {
   "cell_type": "code",
   "execution_count": 28,
   "metadata": {},
   "outputs": [
    {
     "name": "stdout",
     "output_type": "stream",
     "text": [
      "가장 낮은 tfidf를 가진 특성:\n",
      " ['suplexes' 'gauche' 'hypocrites' 'oncoming' 'songwriting' 'galadriel'\n",
      " 'emerald' 'mclaughlin' 'sylvain' 'oversee' 'cataclysmic' 'pressuring'\n",
      " 'uphold' 'thieving' 'inconsiderate' 'ware' 'denim' 'reverting' 'booed'\n",
      " 'spacious']\n",
      "가장 높은 tfidf를 가진 특성:\n",
      " ['gadget' 'sucks' 'zatoichi' 'demons' 'lennon' 'bye' 'dev' 'weller'\n",
      " 'sasquatch' 'botched' 'xica' 'darkman' 'woo' 'casper' 'doodlebops'\n",
      " 'smallville' 'wei' 'scanners' 'steve' 'pokemon']\n"
     ]
    }
   ],
   "source": [
    "print(\"가장 낮은 tfidf를 가진 특성:\\n\", feature_names[sorted_by_tfidf[:20]])\n",
    "print(\"가장 높은 tfidf를 가진 특성:\\n\", feature_names[sorted_by_tfidf[-20:]])"
   ]
  },
  {
   "cell_type": "markdown",
   "metadata": {},
   "source": [
    "tf-idf가 낮은 특성은 전체 문서에 걸쳐 매우 많이 나타나거나, 조금씩만 사용되거나, 매우 긴 문서에서만 사용된다. 재미있게도 tf-idf가 높은 특성은 어떤 쇼나 영화를 나타내는 경우가 많다. 이런 단어들은 특정한 쇼나 드라마에 대한 리뷰에서만 나타나지만, 이 특정 리뷰에서 매우 자주 나타나는 경향이 있다. 예를 들어 \"pokemon\", \"smallville\", \"doodlebops\"가 확실히 그렇고, \"scanners\"는 실제로 영화 제목이다. 이런 단어들이 감정 분석에 도움이 될 것 같지 않지만(어떤 드라마가 전반적으로 긍정적이거나 부정적인 평가를 받지 않는 다면) 리뷰에 대한 구체적인 정보를 많이 포함하고 있다.\n",
    "\n",
    "idf값이 낮은 단어, 즉 자주 나타나서 덜 중요하다고 생각되는 단어를 확인해보자. 훈련 세트의 idf 값은 idf_ 속성에 저장되어 있다."
   ]
  },
  {
   "cell_type": "code",
   "execution_count": 29,
   "metadata": {},
   "outputs": [
    {
     "name": "stdout",
     "output_type": "stream",
     "text": [
      "가장 낮은 idf를 가진 특성:\n",
      " ['the' 'and' 'of' 'to' 'this' 'is' 'it' 'in' 'that' 'but' 'for' 'with'\n",
      " 'was' 'as' 'on' 'movie' 'not' 'have' 'one' 'be' 'film' 'are' 'you' 'all'\n",
      " 'at' 'an' 'by' 'so' 'from' 'like' 'who' 'they' 'there' 'if' 'his' 'out'\n",
      " 'just' 'about' 'he' 'or' 'has' 'what' 'some' 'good' 'can' 'more' 'when'\n",
      " 'time' 'up' 'very' 'even' 'only' 'no' 'would' 'my' 'see' 'really' 'story'\n",
      " 'which' 'well' 'had' 'me' 'than' 'much' 'their' 'get' 'were' 'other'\n",
      " 'been' 'do' 'most' 'don' 'her' 'also' 'into' 'first' 'made' 'how' 'great'\n",
      " 'because' 'will' 'people' 'make' 'way' 'could' 'we' 'bad' 'after' 'any'\n",
      " 'too' 'then' 'them' 'she' 'watch' 'think' 'acting' 'movies' 'seen' 'its'\n",
      " 'him']\n"
     ]
    }
   ],
   "source": [
    "sorted_by_idf = np.argsort(vectorizer.idf_)\n",
    "print(\"가장 낮은 idf를 가진 특성:\\n\", feature_names[sorted_by_idf[:100]])"
   ]
  },
  {
   "cell_type": "markdown",
   "metadata": {},
   "source": [
    "예상대로 대부분 \"the\", \"no\" 같은 영어의 불용어이다. 하지만 일부는 \"movie\", \"film\", \"time\", \"story\" 같이 영화 리뷰에서만 나타나는 단어이다. 흥미로운 것은 \"good\", \"great\", \"bad\"도 매우 자주 나타나는 단어라서 감정 분석에는 매우 중요하겠지만 tf-idf로 봤을 때는 덜 중요한 단어이다."
   ]
  },
  {
   "cell_type": "markdown",
   "metadata": {},
   "source": [
    "# 7.6 모델 계수 조사\n",
    "\n",
    "마지막으로 로지스틱 회귀 모델이 실제로 이 데이터에서 무엇을 학습했는지 자세히 살펴보자. 자주 나타나지 않은 단어를 제외해도 특성이 27,271개나 되기 때문에 모든 계수를 한눈에 볼 수는 없다. 따라서 가장 큰 값의 계수와 해당 단어를 확인해보자. tf-idf 특성으로 훈련시킨 마지막 모델을 사용한다. 로지스틱 회귀의 가장 큰 계수 40개와 가장 작은 계수 40개를 그래프로 나타내보자."
   ]
  },
  {
   "cell_type": "code",
   "execution_count": 31,
   "metadata": {},
   "outputs": [],
   "source": [
    "import mglearn"
   ]
  },
  {
   "cell_type": "code",
   "execution_count": 32,
   "metadata": {},
   "outputs": [
    {
     "data": {
      "image/png": "[encoded data removed]",
      "text/plain": [
       "<Figure size 1080x360 with 1 Axes>"
      ]
     },
     "metadata": {
      "needs_background": "light"
     },
     "output_type": "display_data"
    }
   ],
   "source": [
    "mglearn.tools.visualize_coefficients(grid.best_estimator_.named_steps['logisticregression'].coef_[0],\n",
    "                                    feature_names, n_top_features=40)"
   ]
  },
  {
   "cell_type": "markdown",
   "metadata": {},
   "source": [
    "왼쪽의 음수 계수는 모델에서 부정적인 리뷰를 의미하는 단어에 속하고, 오른쪽 양수 계수는 긍정적인 리뷰의 단어에 해당한다. 대부분의 단어는 매우 직관적이다. \"worst\", \"disappointment\", \"laughable\"는 부정적인 리뷰이며, 반면에 \"excellent\", \"wonderful\", \"enjoyable\", \"refreshing\"는 긍정적인 리뷰임을 말해준다. \"bit\", \"job\", \"today\" 같은 단어들은 조금 덜 명확하지만 아마도 \"good job\"이나 \"best today\" 같은 구절의 일부로 보인다."
   ]
  },
  {
   "cell_type": "markdown",
   "metadata": {},
   "source": [
    "# 7.7 여러 단어로 만든 BOW(n-그램)\n",
    "\n",
    "BOW 표현 방식은 단어의 순서가 완전히 무시괸다는 큰 단점이 있다. 그렇기 때문에 의미가 완전히 반대인 두 문자열 \"it's bad, not good at all\"과 \"it's good, not bad at all\"이 완전히 동일하게 변환된다. 단어 앞에 등장하는 \"not\"은 (극단적일 경우) 문맥의 중요성을 잘 보여주는 예이다. 다행히도 BOW 표현 방식을 사용할 때 문맥을 고려하는 방법이 있다. 토큰 하나의 횟수만 고려하지 않고 옆에 있는 두세 개의 토큰을 함께 고려하는 방식이다. 토큰 두 개를 **바이그램**(bigram), 세 개를 **트라이그램**(trigram)이라고 하며 일반적으로 연속된 토큰은 **n-그램**(n-gram)이라고 한다. CountVectorizer와 TfidfVectorizer는 ngram_range 매개변수에 특성으로 고려할 토큰의 범위를 지정할 수 있다. ngram_range 매개변수의 입력값은 튜플이며 연속된 토큰의 최소 길이와 최대 길이이다. 다음은 앞에서 사용한 샘플 데이터이다."
   ]
  },
  {
   "cell_type": "code",
   "execution_count": 33,
   "metadata": {},
   "outputs": [
    {
     "name": "stdout",
     "output_type": "stream",
     "text": [
      "bards_words:\n",
      " ['The fool doth think he is wise', 'but the wise man knows himself to be a fool']\n"
     ]
    }
   ],
   "source": [
    "print(\"bards_words:\\n\", bards_words)"
   ]
  },
  {
   "cell_type": "markdown",
   "metadata": {},
   "source": [
    "기본값은 최소 길이가 1이고 최대 길이가 1인 토큰마다 하나의 특성을 만든다. 다시 말하면 정확히 토큰 하나이다."
   ]
  },
  {
   "cell_type": "code",
   "execution_count": 35,
   "metadata": {},
   "outputs": [
    {
     "name": "stdout",
     "output_type": "stream",
     "text": [
      "어휘 사전 크기: 13\n",
      "어휘 사전:\n",
      " ['be', 'but', 'doth', 'fool', 'he', 'himself', 'is', 'knows', 'man', 'the', 'think', 'to', 'wise']\n"
     ]
    }
   ],
   "source": [
    "cv = CountVectorizer(ngram_range=(1,1)).fit(bards_words)\n",
    "print(\"어휘 사전 크기:\", len(cv.vocabulary_))\n",
    "print(\"어휘 사전:\\n\", cv.get_feature_names())"
   ]
  },
  {
   "cell_type": "markdown",
   "metadata": {},
   "source": [
    "토큰 두 개가 연속된 바이그램만 만들려면 ngram_range에 (2,2)를 지정한다."
   ]
  },
  {
   "cell_type": "code",
   "execution_count": 36,
   "metadata": {},
   "outputs": [
    {
     "name": "stdout",
     "output_type": "stream",
     "text": [
      "어휘 사전 크기: 14\n",
      "어휘 사전:\n",
      " ['be fool', 'but the', 'doth think', 'fool doth', 'he is', 'himself to', 'is wise', 'knows himself', 'man knows', 'the fool', 'the wise', 'think he', 'to be', 'wise man']\n"
     ]
    }
   ],
   "source": [
    "cv = CountVectorizer(ngram_range=(2,2)).fit(bards_words)\n",
    "print(\"어휘 사전 크기:\", len(cv.vocabulary_))\n",
    "print(\"어휘 사전:\\n\", cv.get_feature_names())"
   ]
  },
  {
   "cell_type": "markdown",
   "metadata": {},
   "source": [
    "연속된 토큰의 수가 커지면 보통 특성이 더 구체적이고 많이 만들어진다. bard_words에 있는 두 문장 사이에는 공통된 바이그램이 없다."
   ]
  },
  {
   "cell_type": "code",
   "execution_count": 37,
   "metadata": {},
   "outputs": [
    {
     "name": "stdout",
     "output_type": "stream",
     "text": [
      "변환된 데이터 (밀집 배열): \n",
      " [[0 0 1 1 1 0 1 0 0 1 0 1 0 0]\n",
      " [1 1 0 0 0 1 0 1 1 0 1 0 1 1]]\n"
     ]
    }
   ],
   "source": [
    "print(\"변환된 데이터 (밀집 배열): \\n\", cv.transform(bards_words).toarray())"
   ]
  },
  {
   "cell_type": "markdown",
   "metadata": {},
   "source": [
    "단어 하나가 큰 의미를 가진 경우가 많으므로 대부분의 애플리케이션에서 토큰의 최소 길이는 1이다. 많은 경우에 바이그램을 추가하면 도움이 된다. 더 길게 5-그램까지는 도움이 되지만 특성의 개수가 매우 많아지며 구체적인 특성이 많아지기 때문에 과대적합될 가능성이 있다. 이론상 바이그램의 수는 유니그램 수의 제곱이 되고, 트라이 그램의 수는 유니그램의 세제곱이 되므로 특성의 개수가 많이 늘어난다. 언어의 구조상 실제로 데이터에 나타나는 높은 n-그램의 횟수가 많기는 하지만 이보다는 훨씬 적다.\n",
    "\n",
    "다음은 bards_words에 유니그램, 바이그램, 트라이그램을 적용한 예이다."
   ]
  },
  {
   "cell_type": "code",
   "execution_count": 38,
   "metadata": {},
   "outputs": [
    {
     "name": "stdout",
     "output_type": "stream",
     "text": [
      "어휘 사전 크기: 39\n",
      "어휘 사전:\n",
      " ['be', 'be fool', 'but', 'but the', 'but the wise', 'doth', 'doth think', 'doth think he', 'fool', 'fool doth', 'fool doth think', 'he', 'he is', 'he is wise', 'himself', 'himself to', 'himself to be', 'is', 'is wise', 'knows', 'knows himself', 'knows himself to', 'man', 'man knows', 'man knows himself', 'the', 'the fool', 'the fool doth', 'the wise', 'the wise man', 'think', 'think he', 'think he is', 'to', 'to be', 'to be fool', 'wise', 'wise man', 'wise man knows']\n"
     ]
    }
   ],
   "source": [
    "cv = CountVectorizer(ngram_range=(1,3)).fit(bards_words)\n",
    "print(\"어휘 사전 크기:\", len(cv.vocabulary_))\n",
    "print(\"어휘 사전:\\n\", cv.get_feature_names())"
   ]
  }
 ],
 "metadata": {
  "kernelspec": {
   "display_name": "Python 3",
   "language": "python",
   "name": "python3"
  }
 },
 "nbformat": 4,
 "nbformat_minor": 2
}
